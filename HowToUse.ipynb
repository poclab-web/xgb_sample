{
 "cells": [
  {
   "cell_type": "markdown",
   "metadata": {},
   "source": [
    "# 1. 事前にハイパーパラメータのチューニングを行います\n",
    "\n",
    "## パラメータチューニング手法\n",
    "- grid search\n",
    "- random-search\n",
    "- bayse optimzation\n",
    "\n",
    "上の3つが用意されています。\n",
    "\n",
    "※ チューニングには時間がかかります\n",
    "\n",
    "## 学習\n",
    "チューニングが終わったら学習が始まります。こちらはすぐに終わります。\n",
    "\n",
    "## 入力\n",
    "\n",
    "今回はTraininConfigクラスに入力をまとめる形を取ります。\n",
    "\n",
    "**入力変数の説明**\n",
    "- csv_path\n",
    "csvデータのパスです。\n",
    "- mode = \"regression もしくは clastaring\" \n",
    "今回の場合regression（回帰）で良いです。\n",
    "- tuning_method = \"grid-search or random-search or bayse optimization\" \n",
    "チューニング方法です。grid-search, random-search, bayse optimizationの中から選んでください。\n",
    "\n",
    "grid-search 時間がかかります(30分~1時間)。\n",
    "\n",
    "random-search 時間が短縮されます。\n",
    "\n",
    "bayse optimization 時間がかかるのと今回の場合だとあまり制度は良くなかったです。\n",
    "\n",
    "\n",
    "- task_id\n",
    "モデルの保存先をしていします。`./result/{task_id名}/model.pickle`で保存されます。\n",
    "\n",
    "## 出力\n",
    "モデルは`./result/{task_id名}/model.pickle`に保存されます。\n"
   ]
  },
  {
   "cell_type": "code",
   "execution_count": 7,
   "metadata": {},
   "outputs": [],
   "source": [
    "# チューニング関数への入力\n",
    "class TrainingConfig:\n",
    "    csv_path = './sample_data/train_T1.csv' # csvのパス\n",
    "    tuning_method = 'grid-search' # チューニングメソッド\n",
    "    task_id = 'T1_pred'\n",
    "    mode = 'regression'\n",
    "conf = TrainingConfig"
   ]
  },
  {
   "cell_type": "code",
   "execution_count": null,
   "metadata": {},
   "outputs": [
    {
     "name": "stdout",
     "output_type": "stream",
     "text": [
      "tuning start\n",
      "X data range will be extract by slice...\n",
      "shape of x::: (281, 2048)\n",
      "shape of y::: (281,)\n",
      "sample of data loaded as X:::[0 0 0 ... 0 0 0]\n",
      "sample of data loaded as Y:::2.0106\n",
      "------------First Validation------------\n",
      "step1 : -0.08644364518772858\n",
      "step2 : -0.0947016004491407\n",
      "step3 : -0.042312282614157336\n",
      "----------------------------------------\n"
     ]
    },
    {
     "name": "stderr",
     "output_type": "stream",
     "text": [
      " 12%|████▋                                | 1/8 [00:03<00:26,  3.73s/it]"
     ]
    },
    {
     "name": "stdout",
     "output_type": "stream",
     "text": [
      "validation score ::: [-3.66050355 -0.11146106 -0.12140237 -0.10095249 -0.06885404 -0.06695412\n",
      " -0.07790129 -0.07559798 -0.06795654 -0.07448584]\n"
     ]
    },
    {
     "name": "stderr",
     "output_type": "stream",
     "text": [
      "\r",
      " 25%|█████████▎                           | 2/8 [00:07<00:21,  3.51s/it]"
     ]
    },
    {
     "name": "stdout",
     "output_type": "stream",
     "text": [
      "validation score ::: [-0.18422651 -0.05392076 -0.05583866 -0.06338247 -0.05833304 -0.0665065\n",
      " -0.07346228 -0.06989806 -0.06978092 -0.06838816 -0.07448584]\n"
     ]
    },
    {
     "name": "stderr",
     "output_type": "stream",
     "text": [
      "\r",
      " 38%|█████████████▉                       | 3/8 [00:10<00:16,  3.33s/it]"
     ]
    },
    {
     "name": "stdout",
     "output_type": "stream",
     "text": [
      "validation score ::: [-0.07448584 -0.07417386 -0.07340436 -0.07288664 -0.07349711 -0.0735589\n",
      " -0.07097941 -0.06987261]\n"
     ]
    },
    {
     "name": "stderr",
     "output_type": "stream",
     "text": [
      "\r",
      " 50%|██████████████████▌                  | 4/8 [00:13<00:13,  3.36s/it]"
     ]
    },
    {
     "name": "stdout",
     "output_type": "stream",
     "text": [
      "validation score ::: [-0.06748693 -0.06725848 -0.06642707 -0.06485668 -0.0720688  -0.06270846\n",
      " -0.0646266  -0.07448584]\n"
     ]
    }
   ],
   "source": [
    "from train import train\n",
    "train(conf)"
   ]
  },
  {
   "cell_type": "markdown",
   "metadata": {},
   "source": [
    "# 2. 予測と評価\n",
    "\n",
    "- R2で評価します。\n",
    "\n",
    "問題があって、再現がとれなくなっています。上のチューニング手法だと、R2 < 0.02と低くじゃっているかと思います。\n",
    "自分が前回作成したモデルだと問題なく予測できています(R2 > 0.8)。こちらの再現を取りたかったら、`渡辺再現用`を実行してください。"
   ]
  },
  {
   "cell_type": "code",
   "execution_count": 4,
   "metadata": {},
   "outputs": [],
   "source": [
    "from xgb import xgb_pred_val"
   ]
  },
  {
   "cell_type": "code",
   "execution_count": 5,
   "metadata": {},
   "outputs": [],
   "source": [
    "csv_path = './sample_data/test_T1.csv'\n",
    "model_path = './result/T1/model.pickle'.format(conf.task_id)"
   ]
  },
  {
   "cell_type": "code",
   "execution_count": 6,
   "metadata": {},
   "outputs": [
    {
     "ename": "XGBoostError",
     "evalue": "[11:22:07] /private/var/folders/5f/6xhcjnrj0jz9ghgx83y_v2d80000gn/T/pip-install-yer97c2h/xgboost_9b1ef5bfcdc6482bb45c50569668c30e/build/temp.macosx-12.0-arm64-3.8/xgboost/src/common/json.cc:458: Expecting: \"\"\", got: \"76 \", around character position: 1\n    {L\\0\\0\\0\\0\\0\\0\\0\n    ^~~~~~~~~\nStack trace:\n  [bt] (0) 1   libxgboost.dylib                    0x000000016dd30420 dmlc::LogMessageFatal::~LogMessageFatal() + 124\n  [bt] (1) 2   libxgboost.dylib                    0x000000016dd50fb8 xgboost::JsonReader::Error(std::__1::basic_string<char, std::__1::char_traits<char>, std::__1::allocator<char> >) const + 964\n  [bt] (2) 3   libxgboost.dylib                    0x000000016dd519fc xgboost::JsonReader::Expect(char, char) + 268\n  [bt] (3) 4   libxgboost.dylib                    0x000000016dd52494 xgboost::JsonReader::ParseObject() + 660\n  [bt] (4) 5   libxgboost.dylib                    0x000000016dd50b6c xgboost::JsonReader::Parse() + 444\n  [bt] (5) 6   libxgboost.dylib                    0x000000016dd5322c xgboost::Json::Load(xgboost::StringView) + 36\n  [bt] (6) 7   libxgboost.dylib                    0x000000016ddc4adc xgboost::LearnerIO::Load(dmlc::Stream*) + 196\n  [bt] (7) 8   libxgboost.dylib                    0x000000016dd2beac XGBoosterUnserializeFromBuffer + 128\n  [bt] (8) 9   libffi.dylib                        0x00000001c33d0050 ffi_call_SYSV + 80\n\n",
     "output_type": "error",
     "traceback": [
      "\u001b[0;31m---------------------------------------------------------------------------\u001b[0m",
      "\u001b[0;31mXGBoostError\u001b[0m                              Traceback (most recent call last)",
      "Cell \u001b[0;32mIn[6], line 1\u001b[0m\n\u001b[0;32m----> 1\u001b[0m model \u001b[38;5;241m=\u001b[39m \u001b[43mxgb_pred_val\u001b[49m\u001b[43m(\u001b[49m\u001b[43mcsv_path\u001b[49m\u001b[43m,\u001b[49m\u001b[43m \u001b[49m\u001b[43mmodel_path\u001b[49m\u001b[43m)\u001b[49m\n",
      "File \u001b[0;32m~/xgb/xgb.py:16\u001b[0m, in \u001b[0;36mxgb_pred_val\u001b[0;34m(csv_path, model_path)\u001b[0m\n\u001b[1;32m     14\u001b[0m \u001b[38;5;66;03m# モデルの読み込み\u001b[39;00m\n\u001b[1;32m     15\u001b[0m f \u001b[38;5;241m=\u001b[39m \u001b[38;5;28mopen\u001b[39m(model_path, \u001b[38;5;124m'\u001b[39m\u001b[38;5;124mrb\u001b[39m\u001b[38;5;124m'\u001b[39m)\n\u001b[0;32m---> 16\u001b[0m model \u001b[38;5;241m=\u001b[39m \u001b[43mpickle\u001b[49m\u001b[38;5;241;43m.\u001b[39;49m\u001b[43mload\u001b[49m\u001b[43m(\u001b[49m\u001b[43mf\u001b[49m\u001b[43m)\u001b[49m\n\u001b[1;32m     18\u001b[0m x_range, y_column \u001b[38;5;241m=\u001b[39m setting[\u001b[38;5;124m'\u001b[39m\u001b[38;5;124mx_range\u001b[39m\u001b[38;5;124m'\u001b[39m], setting[\u001b[38;5;124m\"\u001b[39m\u001b[38;5;124my_column\u001b[39m\u001b[38;5;124m\"\u001b[39m]\n\u001b[1;32m     20\u001b[0m \u001b[38;5;66;03m# x, y定義\u001b[39;00m\n",
      "File \u001b[0;32m~/.pyenv/versions/3.8.16/envs/model/lib/python3.8/site-packages/xgboost/core.py:1451\u001b[0m, in \u001b[0;36mBooster.__setstate__\u001b[0;34m(self, state)\u001b[0m\n\u001b[1;32m   1449\u001b[0m     length \u001b[38;5;241m=\u001b[39m c_bst_ulong(\u001b[38;5;28mlen\u001b[39m(buf))\n\u001b[1;32m   1450\u001b[0m     ptr \u001b[38;5;241m=\u001b[39m (ctypes\u001b[38;5;241m.\u001b[39mc_char \u001b[38;5;241m*\u001b[39m \u001b[38;5;28mlen\u001b[39m(buf))\u001b[38;5;241m.\u001b[39mfrom_buffer(buf)\n\u001b[0;32m-> 1451\u001b[0m     \u001b[43m_check_call\u001b[49m\u001b[43m(\u001b[49m\n\u001b[1;32m   1452\u001b[0m \u001b[43m        \u001b[49m\u001b[43m_LIB\u001b[49m\u001b[38;5;241;43m.\u001b[39;49m\u001b[43mXGBoosterUnserializeFromBuffer\u001b[49m\u001b[43m(\u001b[49m\u001b[43mhandle\u001b[49m\u001b[43m,\u001b[49m\u001b[43m \u001b[49m\u001b[43mptr\u001b[49m\u001b[43m,\u001b[49m\u001b[43m \u001b[49m\u001b[43mlength\u001b[49m\u001b[43m)\u001b[49m\u001b[43m)\u001b[49m\n\u001b[1;32m   1453\u001b[0m     state[\u001b[38;5;124m'\u001b[39m\u001b[38;5;124mhandle\u001b[39m\u001b[38;5;124m'\u001b[39m] \u001b[38;5;241m=\u001b[39m handle\n\u001b[1;32m   1454\u001b[0m \u001b[38;5;28mself\u001b[39m\u001b[38;5;241m.\u001b[39m\u001b[38;5;18m__dict__\u001b[39m\u001b[38;5;241m.\u001b[39mupdate(state)\n",
      "File \u001b[0;32m~/.pyenv/versions/3.8.16/envs/model/lib/python3.8/site-packages/xgboost/core.py:218\u001b[0m, in \u001b[0;36m_check_call\u001b[0;34m(ret)\u001b[0m\n\u001b[1;32m    207\u001b[0m \u001b[38;5;250m\u001b[39m\u001b[38;5;124;03m\"\"\"Check the return value of C API call\u001b[39;00m\n\u001b[1;32m    208\u001b[0m \n\u001b[1;32m    209\u001b[0m \u001b[38;5;124;03mThis function will raise exception when error occurs.\u001b[39;00m\n\u001b[0;32m   (...)\u001b[0m\n\u001b[1;32m    215\u001b[0m \u001b[38;5;124;03m    return value from API calls\u001b[39;00m\n\u001b[1;32m    216\u001b[0m \u001b[38;5;124;03m\"\"\"\u001b[39;00m\n\u001b[1;32m    217\u001b[0m \u001b[38;5;28;01mif\u001b[39;00m ret \u001b[38;5;241m!=\u001b[39m \u001b[38;5;241m0\u001b[39m:\n\u001b[0;32m--> 218\u001b[0m     \u001b[38;5;28;01mraise\u001b[39;00m XGBoostError(py_str(_LIB\u001b[38;5;241m.\u001b[39mXGBGetLastError()))\n",
      "\u001b[0;31mXGBoostError\u001b[0m: [11:22:07] /private/var/folders/5f/6xhcjnrj0jz9ghgx83y_v2d80000gn/T/pip-install-yer97c2h/xgboost_9b1ef5bfcdc6482bb45c50569668c30e/build/temp.macosx-12.0-arm64-3.8/xgboost/src/common/json.cc:458: Expecting: \"\"\", got: \"76 \", around character position: 1\n    {L\\0\\0\\0\\0\\0\\0\\0\n    ^~~~~~~~~\nStack trace:\n  [bt] (0) 1   libxgboost.dylib                    0x000000016dd30420 dmlc::LogMessageFatal::~LogMessageFatal() + 124\n  [bt] (1) 2   libxgboost.dylib                    0x000000016dd50fb8 xgboost::JsonReader::Error(std::__1::basic_string<char, std::__1::char_traits<char>, std::__1::allocator<char> >) const + 964\n  [bt] (2) 3   libxgboost.dylib                    0x000000016dd519fc xgboost::JsonReader::Expect(char, char) + 268\n  [bt] (3) 4   libxgboost.dylib                    0x000000016dd52494 xgboost::JsonReader::ParseObject() + 660\n  [bt] (4) 5   libxgboost.dylib                    0x000000016dd50b6c xgboost::JsonReader::Parse() + 444\n  [bt] (5) 6   libxgboost.dylib                    0x000000016dd5322c xgboost::Json::Load(xgboost::StringView) + 36\n  [bt] (6) 7   libxgboost.dylib                    0x000000016ddc4adc xgboost::LearnerIO::Load(dmlc::Stream*) + 196\n  [bt] (7) 8   libxgboost.dylib                    0x000000016dd2beac XGBoosterUnserializeFromBuffer + 128\n  [bt] (8) 9   libffi.dylib                        0x00000001c33d0050 ffi_call_SYSV + 80\n\n"
     ]
    }
   ],
   "source": [
    "model = xgb_pred_val(csv_path, model_path)"
   ]
  },
  {
   "cell_type": "markdown",
   "metadata": {},
   "source": [
    "## 渡辺再現用"
   ]
  },
  {
   "cell_type": "code",
   "execution_count": 2,
   "metadata": {},
   "outputs": [],
   "source": [
    "from xgb import xgb_pred_val"
   ]
  },
  {
   "cell_type": "code",
   "execution_count": 3,
   "metadata": {},
   "outputs": [],
   "source": [
    "csv_path = './sample_data/test_T1.csv'\n",
    "model_path = './result/T1/xgb_model_T1.pickle'"
   ]
  },
  {
   "cell_type": "code",
   "execution_count": 3,
   "metadata": {},
   "outputs": [
    {
     "name": "stdout",
     "output_type": "stream",
     "text": [
      "shape of x::: (106, 2048)\n",
      "shape of y::: (106,)\n",
      " r2 score plot saved!!\n",
      "0.885388902463001\n"
     ]
    },
    {
     "data": {
      "image/png": "[encoded data removed]",
      "text/plain": [
       "<Figure size 1500x1500 with 1 Axes>"
      ]
     },
     "metadata": {},
     "output_type": "display_data"
    }
   ],
   "source": [
    "model = xgb_pred_val(csv_path, model_path)"
   ]
  },
  {
   "cell_type": "code",
   "execution_count": 15,
   "metadata": {},
   "outputs": [
    {
     "name": "stdout",
     "output_type": "stream",
     "text": [
      "{'objective': 'reg:squarederror', 'base_score': 0.5, 'booster': 'gbtree', 'colsample_bylevel': 1, 'colsample_bynode': 1, 'colsample_bytree': 0.5, 'gamma': 0.01, 'gpu_id': -1, 'interaction_constraints': '', 'learning_rate': 0.1, 'max_delta_step': 0, 'max_depth': 5, 'min_child_weight': 14, 'monotone_constraints': '()', 'n_jobs': 8, 'num_parallel_tree': 1, 'predictor': 'auto', 'random_state': 0, 'reg_alpha': 0.3, 'reg_lambda': 0.3, 'scale_pos_weight': 1, 'subsample': 1.0, 'tree_method': 'exact', 'validate_parameters': 1, 'verbosity': None}\n"
     ]
    }
   ],
   "source": [
    "params = model.get_xgb_params()\n",
    "print(params)\n",
    "import json\n",
    "f = open('./best_params.json', 'w')\n",
    "json.dump(params, f)"
   ]
  },
  {
   "cell_type": "code",
   "execution_count": null,
   "metadata": {},
   "outputs": [],
   "source": []
  }
 ],
 "metadata": {
  "kernelspec": {
   "display_name": "Python 3 (ipykernel)",
   "language": "python",
   "name": "python3"
  },
  "language_info": {
   "codemirror_mode": {
    "name": "ipython",
    "version": 3
   },
   "file_extension": ".py",
   "mimetype": "text/x-python",
   "name": "python",
   "nbconvert_exporter": "python",
   "pygments_lexer": "ipython3",
   "version": "3.8.16"
  }
 },
 "nbformat": 4,
 "nbformat_minor": 2
}

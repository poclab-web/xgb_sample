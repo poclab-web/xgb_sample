{
 "cells": [
  {
   "cell_type": "markdown",
   "metadata": {},
   "source": [
    "# 1. 事前にハイパーパラメータのチューニングを行います\n",
    "\n",
    "## パラメータチューニング手法\n",
    "- grid search\n",
    "- random\n",
    "- bayse optimzation\n",
    "※ チューニングには時間がかかります"
   ]
  },
  {
   "cell_type": "code",
   "execution_count": 1,
   "metadata": {},
   "outputs": [],
   "source": [
    "# チューニング関数への入力\n",
    "class TrainingConfig:\n",
    "    csv_path = './sample_data/train_T1.csv' # csvのパス\n",
    "    task = 'regression' # regression or clastaring\n",
    "    tuning_method = 'random-search' # チューニングメソッド\n",
    "    tadk_id = 'T1_pred'\n",
    "    mode = 'regression'"
   ]
  },
  {
   "cell_type": "code",
   "execution_count": null,
   "metadata": {},
   "outputs": [
    {
     "name": "stdout",
     "output_type": "stream",
     "text": [
      "tuning start\n",
      "X data range will be extract by slice...\n",
      "shape of x::: (281, 2047)\n",
      "shape of y::: (281,)\n",
      "sample of data loaded as X:::[0 0 0 ... 0 0 0]\n",
      "sample of data loaded as Y:::2.0106\n",
      "------------First Validation------------\n",
      "step1 : -0.08645501351104612\n",
      "step2 : -0.0947016004491407\n",
      "step3 : -0.042312282614157336\n",
      "----------------------------------------\n"
     ]
    },
    {
     "name": "stderr",
     "output_type": "stream",
     "text": [
      " 12%|███████████████▏                                                                                                         | 1/8 [00:06<00:48,  6.87s/it]"
     ]
    },
    {
     "name": "stdout",
     "output_type": "stream",
     "text": [
      "validation score ::: [-3.66050355 -0.11146106 -0.12140237 -0.10095249 -0.06885404 -0.06695412\n",
      " -0.07790129 -0.07559798 -0.06795654 -0.07448963]\n"
     ]
    },
    {
     "name": "stderr",
     "output_type": "stream",
     "text": [
      "\r",
      " 25%|██████████████████████████████▎                                                                                          | 2/8 [00:11<00:33,  5.62s/it]"
     ]
    },
    {
     "name": "stdout",
     "output_type": "stream",
     "text": [
      "validation score ::: [-0.18136049 -0.05375263 -0.05879554 -0.0648095  -0.06114965 -0.06810722\n",
      " -0.06422743 -0.06234578 -0.06976935 -0.06663503 -0.07448963]\n"
     ]
    },
    {
     "name": "stderr",
     "output_type": "stream",
     "text": [
      "\r",
      " 38%|█████████████████████████████████████████████▍                                                                           | 3/8 [00:16<00:25,  5.09s/it]"
     ]
    },
    {
     "name": "stdout",
     "output_type": "stream",
     "text": [
      "validation score ::: [-0.07448963 -0.07417386 -0.07340436 -0.07288664 -0.07349711 -0.0735589\n",
      " -0.07097941 -0.06987261]\n"
     ]
    },
    {
     "name": "stderr",
     "output_type": "stream",
     "text": [
      "\r",
      " 50%|████████████████████████████████████████████████████████████▌                                                            | 4/8 [00:20<00:19,  4.95s/it]"
     ]
    },
    {
     "name": "stdout",
     "output_type": "stream",
     "text": [
      "validation score ::: [-0.06748693 -0.06725848 -0.06642707 -0.06485668 -0.0720688  -0.06270846\n",
      " -0.0646266  -0.07448963]\n"
     ]
    },
    {
     "name": "stderr",
     "output_type": "stream",
     "text": [
      "\r",
      " 62%|███████████████████████████████████████████████████████████████████████████▋                                             | 5/8 [04:25<04:33, 91.23s/it]"
     ]
    },
    {
     "name": "stdout",
     "output_type": "stream",
     "text": [
      "validation score ::: [-3.66050355 -0.60452233 -0.06792766 -0.06802401 -0.06739979 -0.07022904\n",
      " -0.07448963 -0.06859804]\n"
     ]
    },
    {
     "name": "stderr",
     "output_type": "stream",
     "text": [
      "\r",
      " 75%|██████████████████████████████████████████████████████████████████████████████████████████▊                              | 6/8 [04:36<02:08, 64.13s/it]"
     ]
    },
    {
     "name": "stdout",
     "output_type": "stream",
     "text": [
      "validation score ::: [-0.07448963 -0.07395161 -0.1006823  -0.10745782 -0.09660053 -0.11352508\n",
      " -0.12421868 -0.11149386]\n"
     ]
    },
    {
     "name": "stderr",
     "output_type": "stream",
     "text": [
      "\r",
      " 88%|█████████████████████████████████████████████████████████████████████████████████████████████████████████▉               | 7/8 [04:46<00:46, 46.29s/it]"
     ]
    },
    {
     "name": "stdout",
     "output_type": "stream",
     "text": [
      "validation score ::: [-0.06132109 -0.06047256 -0.06357972 -0.06843529 -0.06789275 -0.07448963\n",
      " -0.06687416 -0.07393    -0.07385229 -0.0749379 ]\n"
     ]
    },
    {
     "name": "stderr",
     "output_type": "stream",
     "text": [
      "100%|█████████████████████████████████████████████████████████████████████████████████████████████████████████████████████████| 8/8 [07:03<00:00, 53.00s/it]"
     ]
    },
    {
     "name": "stdout",
     "output_type": "stream",
     "text": [
      "validation score ::: [-0.07448963 -0.07454924 -0.07470379 -0.07587375 -0.07486175 -0.08346431\n",
      " -0.07862083 -0.09662094]\n"
     ]
    },
    {
     "name": "stderr",
     "output_type": "stream",
     "text": [
      "\n",
      "/Users/poclab_m1_air_2022/.pyenv/versions/3.8.13/lib/python3.8/site-packages/sklearn/model_selection/_search.py:306: UserWarning: The total space of parameters 768 is smaller than n_iter=1000. Running 768 iterations. For exhaustive searches, use GridSearchCV.\n",
      "  warnings.warn(\n"
     ]
    }
   ],
   "source": [
    "from train import train\n",
    "conf = TrainingConfig\n",
    "train(conf)"
   ]
  },
  {
   "cell_type": "code",
   "execution_count": null,
   "metadata": {},
   "outputs": [],
   "source": [
    "# 2. 予測と評価"
   ]
  },
  {
   "cell_type": "code",
   "execution_count": null,
   "metadata": {},
   "outputs": [],
   "source": [
    "from xgb import xgb_pred_val"
   ]
  },
  {
   "cell_type": "code",
   "execution_count": null,
   "metadata": {},
   "outputs": [],
   "source": []
  }
 ],
 "metadata": {
  "kernelspec": {
   "display_name": "Python 3 (ipykernel)",
   "language": "python",
   "name": "python3"
  },
  "language_info": {
   "codemirror_mode": {
    "name": "ipython",
    "version": 3
   },
   "file_extension": ".py",
   "mimetype": "text/x-python",
   "name": "python",
   "nbconvert_exporter": "python",
   "pygments_lexer": "ipython3",
   "version": "3.8.13"
  }
 },
 "nbformat": 4,
 "nbformat_minor": 2
}

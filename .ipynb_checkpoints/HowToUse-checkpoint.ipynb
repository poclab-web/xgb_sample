{
 "cells": [
  {
   "cell_type": "markdown",
   "metadata": {},
   "source": [
    "# 1. 事前にハイパーパラメータのチューニングを行います\n",
    "\n",
    "## パラメータチューニング手法\n",
    "- grid search\n",
    "- random-search\n",
    "- bayse optimzation\n",
    "\n",
    "上の3つが用意されています。\n",
    "\n",
    "※ チューニングには時間がかかります\n",
    "\n",
    "## 学習\n",
    "チューニングが終わったら学習が始まります。こちらはすぐに終わります。\n",
    "\n",
    "## 入力\n",
    "\n",
    "今回はTraininConfigクラスに入力をまとめる形を取ります。\n",
    "\n",
    "**入力変数の説明**\n",
    "- csv_path\n",
    "csvデータのパスです。\n",
    "- mode = \"regression もしくは clastaring\" \n",
    "今回の場合regression（回帰）で良いです。\n",
    "- tuning_method = \"grid-search or random-search or bayse optimization\" \n",
    "チューニング方法です。grid-search, random-search, bayse optimizationの中から選んでください。\n",
    "\n",
    "grid-search 時間がかかります(30分~1時間)。\n",
    "\n",
    "random-search 時間が短縮されます。\n",
    "\n",
    "bayse optimization 時間がかかるのと今回の場合だとあまり制度は良くなかったです。\n",
    "\n",
    "\n",
    "- task_id\n",
    "モデルの保存先をしていします。`./result/{task_id名}/model.pickle`で保存されます。\n",
    "\n",
    "## 出力\n",
    "モデルは`./result/{task_id名}/model.pickle`に保存されます。\n"
   ]
  },
  {
   "cell_type": "code",
   "execution_count": 1,
   "metadata": {},
   "outputs": [],
   "source": [
    "# チューニング関数への入力\n",
    "class TrainingConfig:\n",
    "    csv_path = './sample_data/train_T1.csv' # csvのパス\n",
    "    tuning_method = 'grid-search' # チューニングメソッド\n",
    "    task_id = 'T1_pred'\n",
    "    mode = 'regression'"
   ]
  },
  {
   "cell_type": "code",
   "execution_count": 2,
   "metadata": {},
   "outputs": [
    {
     "name": "stdout",
     "output_type": "stream",
     "text": [
      "tuning start\n",
      "X data range will be extract by slice...\n",
      "shape of x::: (281, 2048)\n",
      "shape of y::: (281,)\n",
      "sample of data loaded as X:::[0 0 0 ... 0 0 0]\n",
      "sample of data loaded as Y:::2.0106\n",
      "------------First Validation------------\n",
      "step1 : -0.08645501351104612\n",
      "step2 : -0.0947016004491407\n",
      "step3 : -0.042312282614157336\n",
      "----------------------------------------\n"
     ]
    },
    {
     "name": "stderr",
     "output_type": "stream",
     "text": [
      " 12%|████▋                                | 1/8 [00:03<00:25,  3.65s/it]"
     ]
    },
    {
     "name": "stdout",
     "output_type": "stream",
     "text": [
      "validation score ::: [-3.66050355 -0.11146106 -0.12140237 -0.10095249 -0.06885404 -0.06695412\n",
      " -0.07790129 -0.07559798 -0.06795654 -0.07448963]\n"
     ]
    },
    {
     "name": "stderr",
     "output_type": "stream",
     "text": [
      "\r",
      " 25%|█████████▎                           | 2/8 [00:07<00:20,  3.49s/it]"
     ]
    },
    {
     "name": "stdout",
     "output_type": "stream",
     "text": [
      "validation score ::: [-0.18136049 -0.05392076 -0.05583866 -0.06338227 -0.05833304 -0.0665065\n",
      " -0.07346228 -0.06989806 -0.06978092 -0.06838816 -0.07448963]\n"
     ]
    },
    {
     "name": "stderr",
     "output_type": "stream",
     "text": [
      "\r",
      " 38%|█████████████▉                       | 3/8 [00:10<00:16,  3.27s/it]"
     ]
    },
    {
     "name": "stdout",
     "output_type": "stream",
     "text": [
      "validation score ::: [-0.07448963 -0.07417386 -0.07340436 -0.07288664 -0.07349711 -0.0735589\n",
      " -0.07097941 -0.06987261]\n"
     ]
    },
    {
     "name": "stderr",
     "output_type": "stream",
     "text": [
      "\r",
      " 50%|██████████████████▌                  | 4/8 [00:13<00:13,  3.44s/it]"
     ]
    },
    {
     "name": "stdout",
     "output_type": "stream",
     "text": [
      "validation score ::: [-0.06748693 -0.06725848 -0.06642707 -0.06485668 -0.0720688  -0.06270846\n",
      " -0.0646266  -0.07448963]\n"
     ]
    },
    {
     "name": "stderr",
     "output_type": "stream",
     "text": [
      "\r",
      " 62%|███████████████████████▏             | 5/8 [03:01<03:08, 62.78s/it]"
     ]
    },
    {
     "name": "stdout",
     "output_type": "stream",
     "text": [
      "validation score ::: [-3.66050355 -0.60452233 -0.06792766 -0.06802401 -0.06739979 -0.07022904\n",
      " -0.07448963 -0.06859804]\n"
     ]
    },
    {
     "name": "stderr",
     "output_type": "stream",
     "text": [
      "\r",
      " 75%|███████████████████████████▊         | 6/8 [03:09<01:28, 44.24s/it]"
     ]
    },
    {
     "name": "stdout",
     "output_type": "stream",
     "text": [
      "validation score ::: [-0.07448963 -0.07395161 -0.1006823  -0.10745782 -0.09660053 -0.11352508\n",
      " -0.12421868 -0.11149386]\n"
     ]
    },
    {
     "name": "stderr",
     "output_type": "stream",
     "text": [
      "\r",
      " 88%|████████████████████████████████▍    | 7/8 [03:16<00:31, 31.77s/it]"
     ]
    },
    {
     "name": "stdout",
     "output_type": "stream",
     "text": [
      "validation score ::: [-0.06132109 -0.06047256 -0.06357972 -0.06843529 -0.06789275 -0.07448963\n",
      " -0.06687416 -0.07393    -0.07385229 -0.0749379 ]\n"
     ]
    },
    {
     "name": "stderr",
     "output_type": "stream",
     "text": [
      "100%|█████████████████████████████████████| 8/8 [05:04<00:00, 38.02s/it]"
     ]
    },
    {
     "name": "stdout",
     "output_type": "stream",
     "text": [
      "validation score ::: [-0.07448963 -0.07454924 -0.07470379 -0.07587375 -0.07486175 -0.08346431\n",
      " -0.07862083 -0.09662094]\n",
      "{'subsample': [0.1, 0.6, 0.9], 'colsample_bytree': [0.1, 0.4, 0.9], 'reg_alpha': [0.01], 'reg_lambda': [0.01, 0.1], 'learning_rate': [0.001, 0.03], 'min_child_weight': [3, 9], 'max_depth': [2, 5, 7, 9], 'gamma': [0.03, 0.3]}\n"
     ]
    },
    {
     "name": "stderr",
     "output_type": "stream",
     "text": [
      "\n"
     ]
    },
    {
     "name": "stdout",
     "output_type": "stream",
     "text": [
      "{'colsample_bytree': 0.4, 'gamma': 0.03, 'learning_rate': 0.001, 'max_depth': 9, 'min_child_weight': 3, 'reg_alpha': 0.01, 'reg_lambda': 0.1, 'subsample': 0.9}\n",
      "X data range will be extract by slice...\n",
      "shape of x::: (281, 2048)\n",
      "shape of y::: (281,)\n",
      "sample of data loaded as X:::[0 0 0 ... 0 0 0]\n",
      "sample of data loaded as Y:::2.0106\n"
     ]
    },
    {
     "data": {
      "text/plain": [
       "array([-0.29817799, -0.25696562, -0.12123802])"
      ]
     },
     "execution_count": 2,
     "metadata": {},
     "output_type": "execute_result"
    },
    {
     "data": {
      "image/png": "[encoded data removed]",
      "text/plain": [
       "<Figure size 640x480 with 1 Axes>"
      ]
     },
     "metadata": {},
     "output_type": "display_data"
    }
   ],
   "source": [
    "from train import train\n",
    "conf = TrainingConfig\n",
    "train(conf)"
   ]
  },
  {
   "cell_type": "markdown",
   "metadata": {},
   "source": [
    "# 2. 予測と評価\n",
    "\n",
    "- R2で評価します。"
   ]
  },
  {
   "cell_type": "code",
   "execution_count": 8,
   "metadata": {},
   "outputs": [],
   "source": [
    "from xgb import xgb_pred_val"
   ]
  },
  {
   "cell_type": "code",
   "execution_count": 9,
   "metadata": {},
   "outputs": [],
   "source": [
    "csv_path = './sample_data/test_T1.csv'\n",
    "model_path = './result/T1/xgb_model_T1.pickle'"
   ]
  },
  {
   "cell_type": "code",
   "execution_count": 10,
   "metadata": {},
   "outputs": [
    {
     "ename": "NameError",
     "evalue": "name 'ValidationConfig' is not defined",
     "output_type": "error",
     "traceback": [
      "\u001b[0;31m---------------------------------------------------------------------------\u001b[0m",
      "\u001b[0;31mNameError\u001b[0m                                 Traceback (most recent call last)",
      "Input \u001b[0;32mIn [10]\u001b[0m, in \u001b[0;36m<cell line: 1>\u001b[0;34m()\u001b[0m\n\u001b[0;32m----> 1\u001b[0m config \u001b[38;5;241m=\u001b[39m \u001b[43mValidationConfig\u001b[49m\n\u001b[1;32m      2\u001b[0m model \u001b[38;5;241m=\u001b[39m xgb_pred_val(csv_path, model_path)\n",
      "\u001b[0;31mNameError\u001b[0m: name 'ValidationConfig' is not defined"
     ]
    }
   ],
   "source": [
    "\n",
    "model = xgb_pred_val(csv_path, model_path)"
   ]
  },
  {
   "cell_type": "code",
   "execution_count": null,
   "metadata": {},
   "outputs": [],
   "source": []
  }
 ],
 "metadata": {
  "kernelspec": {
   "display_name": "Python 3",
   "language": "python",
   "name": "python3"
  },
  "language_info": {
   "codemirror_mode": {
    "name": "ipython",
    "version": 3
   },
   "file_extension": ".py",
   "mimetype": "text/x-python",
   "name": "python",
   "nbconvert_exporter": "python",
   "pygments_lexer": "ipython3",
   "version": "3.9.12"
  }
 },
 "nbformat": 4,
 "nbformat_minor": 2
}
